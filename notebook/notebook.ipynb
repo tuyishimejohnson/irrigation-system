{
 "cells": [
  {
   "cell_type": "code",
   "execution_count": 54,
   "metadata": {},
   "outputs": [],
   "source": [
    "import tensorflow as tf\n",
    "import pandas as pd\n",
    "import numpy as np\n",
    "import matplotlib.pyplot as plt\n",
    "from sklearn.model_selection import train_test_split\n",
    "from sklearn.preprocessing import StandardScaler\n",
    "from sklearn.preprocessing import LabelEncoder"
   ]
  },
  {
   "cell_type": "code",
   "execution_count": 55,
   "metadata": {},
   "outputs": [],
   "source": [
    "df = pd.read_csv('cropdata_updated.csv')"
   ]
  },
  {
   "cell_type": "code",
   "execution_count": 56,
   "metadata": {},
   "outputs": [
    {
     "data": {
      "text/html": [
       "<div>\n",
       "<style scoped>\n",
       "    .dataframe tbody tr th:only-of-type {\n",
       "        vertical-align: middle;\n",
       "    }\n",
       "\n",
       "    .dataframe tbody tr th {\n",
       "        vertical-align: top;\n",
       "    }\n",
       "\n",
       "    .dataframe thead th {\n",
       "        text-align: right;\n",
       "    }\n",
       "</style>\n",
       "<table border=\"1\" class=\"dataframe\">\n",
       "  <thead>\n",
       "    <tr style=\"text-align: right;\">\n",
       "      <th></th>\n",
       "      <th>crop ID</th>\n",
       "      <th>soil_type</th>\n",
       "      <th>Seedling Stage</th>\n",
       "      <th>MOI</th>\n",
       "      <th>temp</th>\n",
       "      <th>humidity</th>\n",
       "      <th>result</th>\n",
       "    </tr>\n",
       "  </thead>\n",
       "  <tbody>\n",
       "    <tr>\n",
       "      <th>0</th>\n",
       "      <td>Wheat</td>\n",
       "      <td>Black Soil</td>\n",
       "      <td>Germination</td>\n",
       "      <td>1</td>\n",
       "      <td>25</td>\n",
       "      <td>80.0</td>\n",
       "      <td>1</td>\n",
       "    </tr>\n",
       "    <tr>\n",
       "      <th>1</th>\n",
       "      <td>Wheat</td>\n",
       "      <td>Black Soil</td>\n",
       "      <td>Germination</td>\n",
       "      <td>2</td>\n",
       "      <td>26</td>\n",
       "      <td>77.0</td>\n",
       "      <td>1</td>\n",
       "    </tr>\n",
       "    <tr>\n",
       "      <th>2</th>\n",
       "      <td>Wheat</td>\n",
       "      <td>Black Soil</td>\n",
       "      <td>Germination</td>\n",
       "      <td>3</td>\n",
       "      <td>27</td>\n",
       "      <td>74.0</td>\n",
       "      <td>1</td>\n",
       "    </tr>\n",
       "    <tr>\n",
       "      <th>3</th>\n",
       "      <td>Wheat</td>\n",
       "      <td>Black Soil</td>\n",
       "      <td>Germination</td>\n",
       "      <td>4</td>\n",
       "      <td>28</td>\n",
       "      <td>71.0</td>\n",
       "      <td>1</td>\n",
       "    </tr>\n",
       "    <tr>\n",
       "      <th>4</th>\n",
       "      <td>Wheat</td>\n",
       "      <td>Black Soil</td>\n",
       "      <td>Germination</td>\n",
       "      <td>5</td>\n",
       "      <td>29</td>\n",
       "      <td>68.0</td>\n",
       "      <td>1</td>\n",
       "    </tr>\n",
       "  </tbody>\n",
       "</table>\n",
       "</div>"
      ],
      "text/plain": [
       "  crop ID   soil_type Seedling Stage  MOI  temp  humidity  result\n",
       "0   Wheat  Black Soil    Germination    1    25      80.0       1\n",
       "1   Wheat  Black Soil    Germination    2    26      77.0       1\n",
       "2   Wheat  Black Soil    Germination    3    27      74.0       1\n",
       "3   Wheat  Black Soil    Germination    4    28      71.0       1\n",
       "4   Wheat  Black Soil    Germination    5    29      68.0       1"
      ]
     },
     "execution_count": 56,
     "metadata": {},
     "output_type": "execute_result"
    }
   ],
   "source": [
    "df.head()"
   ]
  },
  {
   "cell_type": "code",
   "execution_count": 57,
   "metadata": {},
   "outputs": [
    {
     "data": {
      "text/html": [
       "<div>\n",
       "<style scoped>\n",
       "    .dataframe tbody tr th:only-of-type {\n",
       "        vertical-align: middle;\n",
       "    }\n",
       "\n",
       "    .dataframe tbody tr th {\n",
       "        vertical-align: top;\n",
       "    }\n",
       "\n",
       "    .dataframe thead th {\n",
       "        text-align: right;\n",
       "    }\n",
       "</style>\n",
       "<table border=\"1\" class=\"dataframe\">\n",
       "  <thead>\n",
       "    <tr style=\"text-align: right;\">\n",
       "      <th></th>\n",
       "      <th>MOI</th>\n",
       "      <th>temp</th>\n",
       "      <th>humidity</th>\n",
       "      <th>result</th>\n",
       "    </tr>\n",
       "  </thead>\n",
       "  <tbody>\n",
       "    <tr>\n",
       "      <th>count</th>\n",
       "      <td>16411.000000</td>\n",
       "      <td>16411.000000</td>\n",
       "      <td>16411.000000</td>\n",
       "      <td>16411.000000</td>\n",
       "    </tr>\n",
       "    <tr>\n",
       "      <th>mean</th>\n",
       "      <td>43.695387</td>\n",
       "      <td>28.832612</td>\n",
       "      <td>63.487752</td>\n",
       "      <td>0.516178</td>\n",
       "    </tr>\n",
       "    <tr>\n",
       "      <th>std</th>\n",
       "      <td>27.160264</td>\n",
       "      <td>9.701465</td>\n",
       "      <td>22.630965</td>\n",
       "      <td>0.621691</td>\n",
       "    </tr>\n",
       "    <tr>\n",
       "      <th>min</th>\n",
       "      <td>1.000000</td>\n",
       "      <td>13.000000</td>\n",
       "      <td>15.000000</td>\n",
       "      <td>0.000000</td>\n",
       "    </tr>\n",
       "    <tr>\n",
       "      <th>25%</th>\n",
       "      <td>21.000000</td>\n",
       "      <td>20.000000</td>\n",
       "      <td>44.000000</td>\n",
       "      <td>0.000000</td>\n",
       "    </tr>\n",
       "    <tr>\n",
       "      <th>50%</th>\n",
       "      <td>41.000000</td>\n",
       "      <td>28.000000</td>\n",
       "      <td>69.200000</td>\n",
       "      <td>0.000000</td>\n",
       "    </tr>\n",
       "    <tr>\n",
       "      <th>75%</th>\n",
       "      <td>64.000000</td>\n",
       "      <td>37.000000</td>\n",
       "      <td>84.000000</td>\n",
       "      <td>1.000000</td>\n",
       "    </tr>\n",
       "    <tr>\n",
       "      <th>max</th>\n",
       "      <td>100.000000</td>\n",
       "      <td>46.000000</td>\n",
       "      <td>91.000000</td>\n",
       "      <td>2.000000</td>\n",
       "    </tr>\n",
       "  </tbody>\n",
       "</table>\n",
       "</div>"
      ],
      "text/plain": [
       "                MOI          temp      humidity        result\n",
       "count  16411.000000  16411.000000  16411.000000  16411.000000\n",
       "mean      43.695387     28.832612     63.487752      0.516178\n",
       "std       27.160264      9.701465     22.630965      0.621691\n",
       "min        1.000000     13.000000     15.000000      0.000000\n",
       "25%       21.000000     20.000000     44.000000      0.000000\n",
       "50%       41.000000     28.000000     69.200000      0.000000\n",
       "75%       64.000000     37.000000     84.000000      1.000000\n",
       "max      100.000000     46.000000     91.000000      2.000000"
      ]
     },
     "execution_count": 57,
     "metadata": {},
     "output_type": "execute_result"
    }
   ],
   "source": [
    "df.describe()"
   ]
  },
  {
   "cell_type": "code",
   "execution_count": 58,
   "metadata": {},
   "outputs": [
    {
     "name": "stdout",
     "output_type": "stream",
     "text": [
      "{'Carrot': 0, 'Chilli': 1, 'Potato': 2, 'Tomato': 3, 'Wheat': 4}\n",
      "{'Alluvial Soil': 0, 'Black Soil': 1, 'Chalky Soil': 2, 'Clay Soil': 3, 'Loam Soil': 4, 'Red Soil': 5, 'Sandy Soil': 6}\n",
      "{'Flowering': 0, 'Fruit/Grain/Bulb Formation': 1, 'Germination': 2, 'Harvest': 3, 'Maturation': 4, 'Pollination': 5, 'Seedling Stage': 6, 'Vegetative Growth / Root or Tuber Development': 7}\n"
     ]
    }
   ],
   "source": [
    "# encode crop ID, soil_type, Seedling Stage\n",
    "\n",
    "le = LabelEncoder()\n",
    "df['crop ID'] = le.fit_transform(df['crop ID'])\n",
    "print(dict(zip(le.classes_, le.transform(le.classes_))))\n",
    "df['soil_type'] = le.fit_transform(df['soil_type'])\n",
    "print(dict(zip(le.classes_, le.transform(le.classes_))))\n",
    "df['Seedling Stage'] = le.fit_transform(df['Seedling Stage'])\n",
    "print(dict(zip(le.classes_, le.transform(le.classes_))))\n"
   ]
  },
  {
   "cell_type": "code",
   "execution_count": 59,
   "metadata": {},
   "outputs": [
    {
     "data": {
      "text/html": [
       "<div>\n",
       "<style scoped>\n",
       "    .dataframe tbody tr th:only-of-type {\n",
       "        vertical-align: middle;\n",
       "    }\n",
       "\n",
       "    .dataframe tbody tr th {\n",
       "        vertical-align: top;\n",
       "    }\n",
       "\n",
       "    .dataframe thead th {\n",
       "        text-align: right;\n",
       "    }\n",
       "</style>\n",
       "<table border=\"1\" class=\"dataframe\">\n",
       "  <thead>\n",
       "    <tr style=\"text-align: right;\">\n",
       "      <th></th>\n",
       "      <th>crop ID</th>\n",
       "      <th>soil_type</th>\n",
       "      <th>Seedling Stage</th>\n",
       "      <th>MOI</th>\n",
       "      <th>temp</th>\n",
       "      <th>humidity</th>\n",
       "      <th>result</th>\n",
       "    </tr>\n",
       "  </thead>\n",
       "  <tbody>\n",
       "    <tr>\n",
       "      <th>0</th>\n",
       "      <td>4</td>\n",
       "      <td>1</td>\n",
       "      <td>2</td>\n",
       "      <td>1</td>\n",
       "      <td>25</td>\n",
       "      <td>80.0</td>\n",
       "      <td>1</td>\n",
       "    </tr>\n",
       "    <tr>\n",
       "      <th>1</th>\n",
       "      <td>4</td>\n",
       "      <td>1</td>\n",
       "      <td>2</td>\n",
       "      <td>2</td>\n",
       "      <td>26</td>\n",
       "      <td>77.0</td>\n",
       "      <td>1</td>\n",
       "    </tr>\n",
       "    <tr>\n",
       "      <th>2</th>\n",
       "      <td>4</td>\n",
       "      <td>1</td>\n",
       "      <td>2</td>\n",
       "      <td>3</td>\n",
       "      <td>27</td>\n",
       "      <td>74.0</td>\n",
       "      <td>1</td>\n",
       "    </tr>\n",
       "    <tr>\n",
       "      <th>3</th>\n",
       "      <td>4</td>\n",
       "      <td>1</td>\n",
       "      <td>2</td>\n",
       "      <td>4</td>\n",
       "      <td>28</td>\n",
       "      <td>71.0</td>\n",
       "      <td>1</td>\n",
       "    </tr>\n",
       "    <tr>\n",
       "      <th>4</th>\n",
       "      <td>4</td>\n",
       "      <td>1</td>\n",
       "      <td>2</td>\n",
       "      <td>5</td>\n",
       "      <td>29</td>\n",
       "      <td>68.0</td>\n",
       "      <td>1</td>\n",
       "    </tr>\n",
       "  </tbody>\n",
       "</table>\n",
       "</div>"
      ],
      "text/plain": [
       "   crop ID  soil_type  Seedling Stage  MOI  temp  humidity  result\n",
       "0        4          1               2    1    25      80.0       1\n",
       "1        4          1               2    2    26      77.0       1\n",
       "2        4          1               2    3    27      74.0       1\n",
       "3        4          1               2    4    28      71.0       1\n",
       "4        4          1               2    5    29      68.0       1"
      ]
     },
     "execution_count": 59,
     "metadata": {},
     "output_type": "execute_result"
    }
   ],
   "source": [
    "df.head()"
   ]
  },
  {
   "cell_type": "code",
   "execution_count": 61,
   "metadata": {},
   "outputs": [
    {
     "name": "stdout",
     "output_type": "stream",
     "text": [
      "Model: \"sequential_4\"\n",
      "_________________________________________________________________\n",
      " Layer (type)                Output Shape              Param #   \n",
      "=================================================================\n",
      " dense_16 (Dense)            (None, 64)                448       \n",
      "                                                                 \n",
      " dropout_12 (Dropout)        (None, 64)                0         \n",
      "                                                                 \n",
      " dense_17 (Dense)            (None, 32)                2080      \n",
      "                                                                 \n",
      " dropout_13 (Dropout)        (None, 32)                0         \n",
      "                                                                 \n",
      " dense_18 (Dense)            (None, 16)                528       \n",
      "                                                                 \n",
      " dropout_14 (Dropout)        (None, 16)                0         \n",
      "                                                                 \n",
      " dense_19 (Dense)            (None, 1)                 17        \n",
      "                                                                 \n",
      "=================================================================\n",
      "Total params: 3,073\n",
      "Trainable params: 3,073\n",
      "Non-trainable params: 0\n",
      "_________________________________________________________________\n"
     ]
    }
   ],
   "source": [
    "from keras.models import Sequential\n",
    "from keras.layers import Dense, Dropout\n",
    "from keras.callbacks import EarlyStopping\n",
    "\n",
    "earlyStopping = EarlyStopping(monitor='val_loss', patience=10, verbose=0, mode='min')\n",
    "\n",
    "x = df.drop('result', axis=1)\n",
    "y = df['result']\n",
    "\n",
    "x_train, x_test, y_train, y_test = train_test_split(x, y, test_size=0.2, random_state=42)\n",
    "\n",
    "model = Sequential()\n",
    "model.add(Dense(64, activation='relu', input_shape=(x_train.shape[1],)))\n",
    "model.add(Dropout(0.2))\n",
    "model.add(Dense(32, activation='relu'))\n",
    "model.add(Dropout(0.2))\n",
    "model.add(Dense(16, activation='relu'))\n",
    "model.add(Dropout(0.2))\n",
    "model.add(Dense(1, activation='sigmoid'))\n",
    "\n",
    "model.compile(optimizer='adam', loss='binary_crossentropy', metrics=['accuracy'])\n",
    "\n",
    "model.summary()"
   ]
  },
  {
   "cell_type": "code",
   "execution_count": 62,
   "metadata": {},
   "outputs": [
    {
     "name": "stdout",
     "output_type": "stream",
     "text": [
      "Epoch 1/30\n",
      "411/411 [==============================] - 3s 4ms/step - loss: 0.6474 - accuracy: 0.6733 - val_loss: 0.2164 - val_accuracy: 0.7585\n",
      "Epoch 2/30\n",
      "411/411 [==============================] - 1s 3ms/step - loss: 0.1936 - accuracy: 0.7939 - val_loss: 0.0169 - val_accuracy: 0.8407\n",
      "Epoch 3/30\n",
      "411/411 [==============================] - 1s 4ms/step - loss: 0.0702 - accuracy: 0.8256 - val_loss: -0.1774 - val_accuracy: 0.8827\n",
      "Epoch 4/30\n",
      "411/411 [==============================] - 1s 3ms/step - loss: -0.1606 - accuracy: 0.8286 - val_loss: -0.3030 - val_accuracy: 0.8559\n",
      "Epoch 5/30\n",
      "411/411 [==============================] - 1s 3ms/step - loss: -0.5723 - accuracy: 0.8255 - val_loss: -1.8897 - val_accuracy: 0.8486\n",
      "Epoch 6/30\n",
      "411/411 [==============================] - 1s 3ms/step - loss: -1.4279 - accuracy: 0.8218 - val_loss: -3.6796 - val_accuracy: 0.8611\n",
      "Epoch 7/30\n",
      "411/411 [==============================] - 1s 3ms/step - loss: -2.8638 - accuracy: 0.8206 - val_loss: -6.7745 - val_accuracy: 0.8654\n",
      "Epoch 8/30\n",
      "411/411 [==============================] - 1s 4ms/step - loss: -5.3650 - accuracy: 0.8272 - val_loss: -13.1568 - val_accuracy: 0.8785\n",
      "Epoch 9/30\n",
      "411/411 [==============================] - 1s 4ms/step - loss: -8.7235 - accuracy: 0.8147 - val_loss: -19.5557 - val_accuracy: 0.8337\n",
      "Epoch 10/30\n",
      "411/411 [==============================] - 1s 4ms/step - loss: -16.9777 - accuracy: 0.8256 - val_loss: -28.5811 - val_accuracy: 0.8779\n",
      "Epoch 11/30\n",
      "411/411 [==============================] - 1s 4ms/step - loss: -26.4016 - accuracy: 0.8227 - val_loss: -48.4483 - val_accuracy: 0.8471\n",
      "Epoch 12/30\n",
      "411/411 [==============================] - 1s 4ms/step - loss: -45.2883 - accuracy: 0.8202 - val_loss: -64.7281 - val_accuracy: 0.8309\n",
      "Epoch 13/30\n",
      "411/411 [==============================] - 2s 4ms/step - loss: -67.4619 - accuracy: 0.8098 - val_loss: -102.3710 - val_accuracy: 0.8514\n",
      "Epoch 14/30\n",
      "411/411 [==============================] - 1s 4ms/step - loss: -77.6063 - accuracy: 0.8186 - val_loss: -116.4452 - val_accuracy: 0.8696\n",
      "Epoch 15/30\n",
      "411/411 [==============================] - 1s 4ms/step - loss: -90.4660 - accuracy: 0.8261 - val_loss: -169.9034 - val_accuracy: 0.8507\n",
      "Epoch 16/30\n",
      "411/411 [==============================] - 1s 4ms/step - loss: -138.7890 - accuracy: 0.8180 - val_loss: -201.2550 - val_accuracy: 0.8614\n",
      "Epoch 17/30\n",
      "411/411 [==============================] - 2s 4ms/step - loss: -155.0470 - accuracy: 0.8221 - val_loss: -268.9565 - val_accuracy: 0.8541\n",
      "Epoch 18/30\n",
      "411/411 [==============================] - 1s 4ms/step - loss: -201.2712 - accuracy: 0.8199 - val_loss: -322.6463 - val_accuracy: 0.8648\n",
      "Epoch 19/30\n",
      "411/411 [==============================] - 2s 5ms/step - loss: -262.8103 - accuracy: 0.8128 - val_loss: -386.9051 - val_accuracy: 0.8556\n",
      "Epoch 20/30\n",
      "411/411 [==============================] - 2s 4ms/step - loss: -326.5787 - accuracy: 0.8156 - val_loss: -525.6050 - val_accuracy: 0.8459\n",
      "Epoch 21/30\n",
      "411/411 [==============================] - 1s 3ms/step - loss: -369.8426 - accuracy: 0.8170 - val_loss: -617.0577 - val_accuracy: 0.8474\n",
      "Epoch 22/30\n",
      "411/411 [==============================] - 1s 3ms/step - loss: -492.2684 - accuracy: 0.8119 - val_loss: -714.8282 - val_accuracy: 0.8507\n",
      "Epoch 23/30\n",
      "411/411 [==============================] - 1s 3ms/step - loss: -529.5352 - accuracy: 0.8172 - val_loss: -880.5291 - val_accuracy: 0.8063\n",
      "Epoch 24/30\n",
      "411/411 [==============================] - 1s 3ms/step - loss: -724.4368 - accuracy: 0.8134 - val_loss: -905.3792 - val_accuracy: 0.8593\n",
      "Epoch 25/30\n",
      "411/411 [==============================] - 1s 3ms/step - loss: -916.1189 - accuracy: 0.8148 - val_loss: -1176.6663 - val_accuracy: 0.8337\n",
      "Epoch 26/30\n",
      "411/411 [==============================] - 1s 3ms/step - loss: -919.6805 - accuracy: 0.8135 - val_loss: -1432.1458 - val_accuracy: 0.8468\n",
      "Epoch 27/30\n",
      "411/411 [==============================] - 1s 3ms/step - loss: -1103.9220 - accuracy: 0.8181 - val_loss: -1614.0697 - val_accuracy: 0.8517\n",
      "Epoch 28/30\n",
      "411/411 [==============================] - 1s 4ms/step - loss: -1225.7620 - accuracy: 0.8098 - val_loss: -1874.0151 - val_accuracy: 0.8489\n",
      "Epoch 29/30\n",
      "411/411 [==============================] - 1s 3ms/step - loss: -1412.9105 - accuracy: 0.8131 - val_loss: -2020.9386 - val_accuracy: 0.8471\n",
      "Epoch 30/30\n",
      "411/411 [==============================] - 1s 3ms/step - loss: -1764.5623 - accuracy: 0.8142 - val_loss: -1815.0659 - val_accuracy: 0.8501\n"
     ]
    }
   ],
   "source": [
    "history = model.fit(x_train, y_train, epochs=30, batch_size=32, validation_data=(x_test, y_test), callbacks=[earlyStopping])"
   ]
  },
  {
   "cell_type": "code",
   "execution_count": 63,
   "metadata": {},
   "outputs": [
    {
     "name": "stdout",
     "output_type": "stream",
     "text": [
      "103/103 [==============================] - 0s 2ms/step - loss: -1815.0659 - accuracy: 0.8501\n"
     ]
    },
    {
     "data": {
      "text/plain": [
       "[-1815.06591796875, 0.8501370549201965]"
      ]
     },
     "execution_count": 63,
     "metadata": {},
     "output_type": "execute_result"
    }
   ],
   "source": [
    "model.evaluate(x_test, y_test)"
   ]
  },
  {
   "cell_type": "code",
   "execution_count": 70,
   "metadata": {},
   "outputs": [
    {
     "name": "stdout",
     "output_type": "stream",
     "text": [
      "INFO:tensorflow:Assets written to: ram://7a28d7df-6256-45e6-bdb7-407a5ef333a8/assets\n"
     ]
    }
   ],
   "source": [
    "import os\n",
    "import pickle\n",
    "\n",
    "# Create the directory if it doesn't exist\n",
    "os.makedirs('models', exist_ok=True)\n",
    "\n",
    "# Save the model to the 'models' folder\n",
    "pickle.dump(model, open(\"models/cropmodel.pkl\", \"wb\"))"
   ]
  },
  {
   "cell_type": "code",
   "execution_count": 71,
   "metadata": {},
   "outputs": [
    {
     "name": "stdout",
     "output_type": "stream",
     "text": [
      "1/1 [==============================] - 0s 27ms/step\n"
     ]
    },
    {
     "data": {
      "text/plain": [
       "array([[0.6000015]], dtype=float32)"
      ]
     },
     "execution_count": 71,
     "metadata": {},
     "output_type": "execute_result"
    }
   ],
   "source": [
    "testing = pd.DataFrame([[4,1,2,5, 29,68]], columns=['crop ID', 'soil_type', 'Seedling Stage', 'fertilizer', 'temperature', 'humidity'])\n",
    "model.predict(testing)\n"
   ]
  },
  {
   "cell_type": "code",
   "execution_count": null,
   "metadata": {},
   "outputs": [],
   "source": []
  },
  {
   "cell_type": "code",
   "execution_count": 72,
   "metadata": {},
   "outputs": [
    {
     "name": "stdout",
     "output_type": "stream",
     "text": [
      "103/103 [==============================] - 0s 1ms/step\n"
     ]
    },
    {
     "data": {
      "image/png": "[encoded data removed]",
      "text/plain": [
       "<Figure size 1000x700 with 1 Axes>"
      ]
     },
     "metadata": {},
     "output_type": "display_data"
    }
   ],
   "source": [
    "import matplotlib.pyplot as plt\n",
    "from sklearn.metrics import confusion_matrix\n",
    "import seaborn as sns\n",
    "\n",
    "# Assuming y_test is defined elsewhere in the notebook\n",
    "# y_test: true labels\n",
    "\n",
    "# Predict the labels for the test set\n",
    "Y_pred_vanilla = model.predict(x_test)\n",
    "Y_pred_vanilla = (Y_pred_vanilla > 0.5).astype(int)\n",
    "\n",
    "# Calculate the confusion matrix\n",
    "vanilla_conf_matrix = confusion_matrix(y_test, Y_pred_vanilla)\n",
    "\n",
    "# Plot the confusion matrix\n",
    "plt.figure(figsize=(10, 7))\n",
    "sns.heatmap(vanilla_conf_matrix, annot=True, fmt=\"d\", cmap=\"Blues\", cbar=False)\n",
    "plt.title('Confusion Matrix - Vanilla Model')\n",
    "plt.ylabel('Actual Label')\n",
    "plt.xlabel('Predicted Label')\n",
    "plt.show()\n"
   ]
  }
 ],
 "metadata": {
  "kernelspec": {
   "display_name": "irrigation2",
   "language": "python",
   "name": "python3"
  },
  "language_info": {
   "codemirror_mode": {
    "name": "ipython",
    "version": 3
   },
   "file_extension": ".py",
   "mimetype": "text/x-python",
   "name": "python",
   "nbconvert_exporter": "python",
   "pygments_lexer": "ipython3",
   "version": "3.9.18"
  }
 },
 "nbformat": 4,
 "nbformat_minor": 2
}
